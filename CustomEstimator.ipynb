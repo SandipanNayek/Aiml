{
 "cells": [
  {
   "cell_type": "code",
   "execution_count": 2,
   "id": "5fb65cf1-c77d-40c2-adbf-17f21eaac288",
   "metadata": {},
   "outputs": [],
   "source": [
    "from sklearn.base import BaseEstimator, ClassifierMixin\n",
    "import numpy as np\n",
    "from sklearn.utils import check_X_y"
   ]
  },
  {
   "cell_type": "code",
   "execution_count": 5,
   "id": "32bc2da4-4d2c-4d63-89ba-3bff5238691a",
   "metadata": {},
   "outputs": [],
   "source": [
    "class MostFrequentClassClassifier(BaseEstimator, ClassifierMixin):\n",
    "    def __init__(self):\n",
    "        self.most_frequent_ = None\n",
    "\n",
    "    def fit(self, X, y):\n",
    "\n",
    "        # Validate input X and target vector y\n",
    "        X, y = check_X_y(X, y)\n",
    "\n",
    "        # Ensure y is 1D\n",
    "        y = np.ravel(y)\n",
    "\n",
    "        # Manually compute the most frequent class\n",
    "        unique_classes, counts = np.unique(y, return_counts=True)\n",
    "        self.most_frequent_ = unique_classes[np.argmax(counts)]\n",
    "\n",
    "        return self\n",
    "\n",
    "    def predict(self, X):\n",
    "        if self.most_frequent_ is None:\n",
    "            raise ValueError(\"This classifier instance is not fitted yet.\")\n",
    "        # Predict the most frequent class for each input sample\n",
    "        return np.full(shape=(X.shape[0],), fill_value=self.most_frequent_)\n"
   ]
  },
  {
   "cell_type": "code",
   "execution_count": 7,
   "id": "48cc16d1-9ef5-43df-a2cf-73668f04fc13",
   "metadata": {},
   "outputs": [
    {
     "name": "stdout",
     "output_type": "stream",
     "text": [
      "Predicted class for all test instances: 1\n"
     ]
    }
   ],
   "source": [
    "from sklearn.model_selection import train_test_split\n",
    "from sklearn.datasets import load_iris\n",
    "\n",
    "# Load data\n",
    "iris = load_iris()\n",
    "X, y = iris.data, iris.target\n",
    "\n",
    "# Split the data\n",
    "X_train, X_test, y_train, y_test = train_test_split(X, y, random_state=42)\n",
    "\n",
    "# Initialize and fit the custom estimator\n",
    "classifier = MostFrequentClassClassifier()\n",
    "classifier.fit(X_train, y_train)\n",
    "\n",
    "# Make predictions\n",
    "predictions = classifier.predict(X_test)\n",
    "\n",
    "# Evaluate the custom estimator\n",
    "print(f\"Predicted class for all test instances: {predictions[0]}\")"
   ]
  },
  {
   "cell_type": "code",
   "execution_count": null,
   "id": "4b5a948f-91ca-4188-aeb8-cb9a989b88f7",
   "metadata": {},
   "outputs": [],
   "source": [
    "from sklearn.model_selection import cross_val_score\n",
    "\n",
    "cross_val_score(classifier, X_train, y_train)"
   ]
  }
 ],
 "metadata": {
  "kernelspec": {
   "display_name": "Python 3 (ipykernel)",
   "language": "python",
   "name": "python3"
  },
  "language_info": {
   "codemirror_mode": {
    "name": "ipython",
    "version": 3
   },
   "file_extension": ".py",
   "mimetype": "text/x-python",
   "name": "python",
   "nbconvert_exporter": "python",
   "pygments_lexer": "ipython3",
   "version": "3.13.5"
  }
 },
 "nbformat": 4,
 "nbformat_minor": 5
}
